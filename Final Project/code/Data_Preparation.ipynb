{
 "cells": [
  {
   "cell_type": "code",
   "execution_count": 65,
   "metadata": {},
   "outputs": [],
   "source": [
    "import os\n",
    "from shutil import copyfile\n",
    "import shutil\n",
    "import numpy as np\n",
    "import pandas as pd\n",
    "import fnmatch\n",
    "import matplotlib.pyplot as plt\n",
    "from scipy import misc, ndimage\n",
    "from sklearn.model_selection import train_test_split\n",
    "import keras\n",
    "from keras.models import load_model\n",
    "from keras import backend as K\n",
    "from keras.preprocessing import image\n",
    "from keras.preprocessing.image import ImageDataGenerator, array_to_img, img_to_array, load_img\n",
    "from keras.models import Model\n",
    "from keras.layers import Input\n",
    "from keras.layers.core import Activation, Reshape\n",
    "from keras.layers.convolutional import Convolution2D\n",
    "from keras.layers.normalization import BatchNormalization\n",
    "import sys\n",
    "from layers import MaxPoolingWithArgmax2D, MaxUnpooling2D\n",
    "import matplotlib.pyplot as plt"
   ]
  },
  {
   "cell_type": "code",
   "execution_count": 2,
   "metadata": {},
   "outputs": [
    {
     "name": "stdout",
     "output_type": "stream",
     "text": [
      "['C:\\\\Users\\\\sshek\\\\Documents\\\\My Documents\\\\Spring 2019 Courses\\\\Deep Learning and Neural Nets\\\\Projects\\\\Project - Final\\\\Leaf Segmentation_Counting', 'C:\\\\Users\\\\sshek\\\\Documents\\\\My Documents\\\\Python Custom Files', 'C:\\\\Users\\\\sshek\\\\Anaconda3\\\\python37.zip', 'C:\\\\Users\\\\sshek\\\\Anaconda3\\\\DLLs', 'C:\\\\Users\\\\sshek\\\\Anaconda3\\\\lib', 'C:\\\\Users\\\\sshek\\\\Anaconda3', '', 'C:\\\\Users\\\\sshek\\\\AppData\\\\Roaming\\\\Python\\\\Python37\\\\site-packages', 'C:\\\\Users\\\\sshek\\\\Anaconda3\\\\lib\\\\site-packages', 'C:\\\\Users\\\\sshek\\\\Anaconda3\\\\lib\\\\site-packages\\\\win32', 'C:\\\\Users\\\\sshek\\\\Anaconda3\\\\lib\\\\site-packages\\\\win32\\\\lib', 'C:\\\\Users\\\\sshek\\\\Anaconda3\\\\lib\\\\site-packages\\\\Pythonwin', 'C:\\\\Users\\\\sshek\\\\AppData\\\\Roaming\\\\Python\\\\Python37\\\\site-packages\\\\IPython\\\\extensions', 'C:\\\\Users\\\\sshek\\\\.ipython']\n"
     ]
    }
   ],
   "source": [
    "# print(sys.path)"
   ]
  },
  {
   "cell_type": "code",
   "execution_count": 89,
   "metadata": {},
   "outputs": [],
   "source": [
    "df_A1 = pd.read_csv('./Dataset/CVPPP2017_LCC_training/CVPPP2017_LCC_training/training/A1/A1.csv', header = None)\n",
    "df_A2 = pd.read_csv('./Dataset/CVPPP2017_LCC_training/CVPPP2017_LCC_training/training/A2/A2.csv', header = None)\n",
    "df_A4 = pd.read_csv('./Dataset/CVPPP2017_LCC_training/CVPPP2017_LCC_training/training/A4/A4.csv', header = None)"
   ]
  },
  {
   "cell_type": "code",
   "execution_count": 90,
   "metadata": {},
   "outputs": [],
   "source": [
    "columns = ['Plant', 'Count']\n",
    "plant_df = pd.DataFrame(columns=columns)"
   ]
  },
  {
   "cell_type": "code",
   "execution_count": 91,
   "metadata": {},
   "outputs": [],
   "source": [
    "## Code for storing Images in ordered format [continous number format] and sorted in separate subdirectories for rgb, fg, center images\n",
    "baseImPath = './Dataset/CVPPP2017_LCC_training/CVPPP2017_LCC_training/training/'\n",
    "postImPath = ['A1/','A2/','A4/']\n",
    "outputPath = './InputDS/CVPPP2017_LCC_training/training2/'\n",
    "outRgbPath = 'rgb/'\n",
    "outFgPath = 'fg/'\n",
    "outCenterPath = 'centers/'\n",
    "\n",
    "pattern_rgb = \"*_rgb.png\"\n",
    "outputRGBPath = outputPath + outRgbPath\n",
    "count_rgb = 1\n",
    "pattern_fg = \"*_fg.png\"\n",
    "outputFGPath = outputPath + outFgPath\n",
    "count_fg = 1\n",
    "pattern_center = \"*_centers.png\"\n",
    "outputCenterPath = outputPath + outCenterPath\n",
    "count_center = 1\n",
    "for subdir in postImPath:\n",
    "    inputPath = baseImPath + subdir\n",
    "    listOfFiles = os.listdir(inputPath) \n",
    "    for entry in listOfFiles:  \n",
    "        if fnmatch.fnmatch(entry, pattern_rgb):\n",
    "            if subdir == 'A1/':\n",
    "                plant_df = plant_df.append({'Plant': str(count_rgb) + '.png', 'Count' : df_A1[df_A1[0] == entry][1].item()}, ignore_index = True)\n",
    "            if subdir == 'A2/':\n",
    "                plant_df = plant_df.append({'Plant': str(count_rgb) + '.png', 'Count' : df_A2[df_A2[0] == entry][1].item()}, ignore_index = True)\n",
    "            if subdir == 'A4/':\n",
    "                plant_df = plant_df.append({'Plant': str(count_rgb) + '.png', 'Count' : df_A4[df_A4[0] == entry][1].item()}, ignore_index = True)\n",
    "            copyfile(inputPath + entry, outputRGBPath + str(count_rgb) + '.png')\n",
    "            count_rgb += 1\n",
    "        if fnmatch.fnmatch(entry, pattern_fg):\n",
    "            copyfile(inputPath + entry, outputFGPath + str(count_fg) + '.png')\n",
    "            count_fg += 1\n",
    "        if fnmatch.fnmatch(entry, pattern_center):\n",
    "            copyfile(inputPath + entry, outputCenterPath + str(count_center) + '.png')\n",
    "            count_center += 1"
   ]
  },
  {
   "cell_type": "code",
   "execution_count": 94,
   "metadata": {},
   "outputs": [],
   "source": [
    "plant_df.to_csv('./InputDS/CVPPP2017_LCC_training/PlantCounts.csv', index=False)"
   ]
  },
  {
   "cell_type": "code",
   "execution_count": 95,
   "metadata": {},
   "outputs": [
    {
     "name": "stdout",
     "output_type": "stream",
     "text": [
      "683\n",
      "50\n",
      "50\n",
      "[217 712 269 202 287 449 190 626 482  62 693 324 525 602   4 552 364 658\n",
      " 275  66 409 176 182 105 390 742  58 315 429 577 739 428 393 762 369 188\n",
      " 351  36 422 513  42 389 724 580 109 781 571   1 613  75 335  67 258 512\n",
      " 474 359 162 611 579 529 342 353 682  14 575 403 346 278  93 126 115 683\n",
      " 779 557 468 772 332 133 517 544 774 494 475 518  41 503 765  69  77 181\n",
      " 780 365 140 443 647 119 745 196 721 605 497  35 263 759 638 776 161 728\n",
      " 603  15 248 120  83 386 736 239 108  18 465 173 719 354 104 440 645 412\n",
      " 395 473  46 651 676 371 249 448 662 564  12 215  89 640 561 148 556 300\n",
      " 256 383 312 621 778 355 372 675 174 653 122 760 511  32 311 594 431 286\n",
      " 714 117 274  96 488 387 306 330 299 532  63 460 539 507  92 737 362 635\n",
      "  30  55 732 373 147 612 624 601 710 166 415  81 433 260  10 677 614 743\n",
      " 180 502 692 294 376   6 198 715 615 483 262 350 718 480  39 672 356 747\n",
      " 163  68 125  40   5  34 618 281 545 100 660 591 237 400 453 709 367 588\n",
      " 756 519 434  13 187 487 536 713 261 375 334 154 540 305 201 746 397  79\n",
      " 313 707 572  43 134 568 435 637 251 554 485 374 193 221 688 427 696 655\n",
      " 619 534 158 734 273 752 520 307 430 684 103  53 157 437 530  98 652 129\n",
      " 379 178 348 111 585 380 192 413 344 566 143 630   7 268 608 238 523 401\n",
      " 384  59 632 233 717 644 204 555 285 489   3 767 524 218 361  47 751 423\n",
      " 226  19 169 229 293 378 446 398 228 700 590 329 284 727 604 586 775  94\n",
      " 214 259 338 426 292 551 625 107 116 159 777 113  37 106 396 363 499 205\n",
      " 245 222 247 366 345 442 582 753 674 352 250 123 726 407 668 165 670 686\n",
      " 740 648 240  84 600 296 663  71 531 541  99 522 722 360  31 341 508 481\n",
      "  95 128 657   2 685  28  90 309  74 454 185 411 172 418 227 620 593 461\n",
      " 678 424 316 377 679 439 576 151 783 629 410 144 527 673 209 441 132 381\n",
      " 175 271 408 665 124 139  52 276 757 343 257 183 301 595 241 231 327 459\n",
      " 466 164 168 146 207 501 189 325 664 699  80 642 705 230 606 101 291 445\n",
      " 741  54 392 755 782 252 500 476 272  45 114  25 212 170 761 521  33 110\n",
      " 137 331 223  29 288  56 690 703  49 706 766 546 478 548  64 414 385 694\n",
      " 323 452 609 235 558 463 425 689 304 691 220 681 297  22 421 326 200 451\n",
      " 138 537 213 758 731 720 506 636 232 406 569 318 184 671 763 610 627 486\n",
      " 279 631  21 171 402 723 567 177 328 199 471 659 267 616 493 131 339 667\n",
      " 490 573 607 194 141 417 661 477 153 701  11 270  97 211 773 570 549 738\n",
      " 533 730 333  76  78 264 150 744 515 735 470 565 462 254 370 322 152 303\n",
      " 191 587 349 244  88 656 711 419 289 649 167 596 733 156 357 382 280 127\n",
      " 708  23 617 666 283 472 368  26 197  65  16 467 298 622 337  27 589  44\n",
      " 498 516 749 562 455 388  72 543 457 634 432 628 654 729 265 210 317 514\n",
      " 314 535 320   8 394 142  87 479 504 754 216 581 563 399 669 491 253 469\n",
      " 358 255 277 179 282 391 509 750 584 130 145 646 716 768  73 236  38]\n",
      "[450 771 225 340 102 698 121 186 302  85 160  17 599 770   9 308 547  60\n",
      " 704 242 598  48 578  61 203 458 234 492 246 447  82 769 764 526 420 416\n",
      " 623 639 336 495 266 748 155  70 559 118 680  57 697 687]\n",
      "[553 405 438 633  51 505 510 574 195 206 321 404 695 136 290 650 592 319\n",
      " 496 224 112  86 219 310 484 208 347 436 464 560  91  50 149 643 528 135\n",
      " 456 597 702 542 444 583  24  20 243 641 550 295 725 538]\n"
     ]
    }
   ],
   "source": [
    "## Since there is no additional validation and test data, removing 50 validation and 50 test images from the training set on a random basis\n",
    "## Separating images into training, validation and test sets\n",
    "x = np.arange(1,784,1)\n",
    "X_train, X_val_test = train_test_split(x, test_size=0.1277, random_state=1)\n",
    "X_val, X_test = train_test_split(X_val_test, test_size=0.50, random_state=1)\n",
    "print(len(X_train))\n",
    "print(len(X_val))\n",
    "print(len(X_test))\n",
    "print(X_train)\n",
    "print(X_val)\n",
    "print(X_test)"
   ]
  },
  {
   "cell_type": "code",
   "execution_count": 96,
   "metadata": {},
   "outputs": [],
   "source": [
    "columns = ['Plant', 'Count']\n",
    "train_df = pd.DataFrame(columns=columns)\n",
    "val_df = pd.DataFrame(columns=columns)\n",
    "test_df = pd.DataFrame(columns=columns)"
   ]
  },
  {
   "cell_type": "code",
   "execution_count": 98,
   "metadata": {},
   "outputs": [],
   "source": [
    "### Paths for input from train and into Validation folder\n",
    "inTrainRgbPath = './InputDS/CVPPP2017_LCC_training/training2/rgb/'\n",
    "outValRgbPath = './InputDS/CVPPP2017_LCC_training/validation2/rgb/'\n",
    "inTrainFgPath = './InputDS/CVPPP2017_LCC_training/training2/fg/'\n",
    "outValFgPath = './InputDS/CVPPP2017_LCC_training/validation2/fg/'\n",
    "inTrainCentersPath = './InputDS/CVPPP2017_LCC_training/training2/centers/'\n",
    "outValCentersPath = './InputDS/CVPPP2017_LCC_training/validation2/centers/'\n",
    "### Paths for input from train and into Test folder\n",
    "inTrainRgbPath = './InputDS/CVPPP2017_LCC_training/training2/rgb/'\n",
    "outTestRgbPath = './InputDS/CVPPP2017_LCC_training/testing2/rgb/'\n",
    "inTrainFgPath = './InputDS/CVPPP2017_LCC_training/training2/fg/'\n",
    "outTestFgPath = './InputDS/CVPPP2017_LCC_training/testing2/fg/'\n",
    "inTrainCentersPath = './InputDS/CVPPP2017_LCC_training/training2/centers/'\n",
    "outTestCentersPath = './InputDS/CVPPP2017_LCC_training/testing2/centers/'\n",
    "### Moving the training images to new path and renumbering then\n",
    "inTrainRgbPath = './InputDS/CVPPP2017_LCC_training/training2/rgb/'\n",
    "outTrainRgbPath = './InputDS/CVPPP2017_LCC_training/train2/rgb/'\n",
    "inTrainFgPath = './InputDS/CVPPP2017_LCC_training/training2/fg/'\n",
    "outTrainFgPath = './InputDS/CVPPP2017_LCC_training/train2/fg/'\n",
    "inTrainCentersPath = './InputDS/CVPPP2017_LCC_training/training2/centers/'\n",
    "outTrainCentersPath = './InputDS/CVPPP2017_LCC_training/train2/centers/'\n",
    "\n",
    "## Copying and arranging validation folder\n",
    "counter = 1\n",
    "for val in X_val:\n",
    "    shutil.move(inTrainRgbPath + str(val) + '.png', outValRgbPath + str(counter) + '.png')\n",
    "    shutil.move(inTrainFgPath + str(val) + '.png', outValFgPath + str(counter) + '.png')\n",
    "    shutil.move(inTrainCentersPath + str(val) + '.png', outValCentersPath + str(counter) + '.png')\n",
    "    val_df = val_df.append({'Plant': str(counter) + '.png', 'Count' : plant_df[plant_df['Plant'] == str(val) + '.png']['Count'].item()}, ignore_index = True)\n",
    "    counter += 1\n",
    "    \n",
    "counter = 1\n",
    "## Copying and arranging test folder\n",
    "for test in X_test:\n",
    "    shutil.move(inTrainRgbPath + str(test) + '.png', outTestRgbPath + str(counter) + '.png')\n",
    "    shutil.move(inTrainFgPath + str(test) + '.png', outTestFgPath + str(counter) + '.png')\n",
    "    shutil.move(inTrainCentersPath + str(test) + '.png', outTestCentersPath + str(counter) + '.png')\n",
    "    test_df = test_df.append({'Plant': str(counter) + '.png', 'Count' : plant_df[plant_df['Plant'] == str(test) + '.png']['Count'].item()}, ignore_index = True)\n",
    "    counter += 1\n",
    "    \n",
    "## Renumbering the remaining 683 entries in training data starting from 1\n",
    "counter = 1\n",
    "for train in X_train:\n",
    "    shutil.move(inTrainRgbPath + str(train) + '.png', outTrainRgbPath + str(counter) + '.png')\n",
    "    shutil.move(inTrainFgPath + str(train) + '.png', outTrainFgPath + str(counter) + '.png')\n",
    "    shutil.move(inTrainCentersPath + str(train) + '.png', outTrainCentersPath + str(counter) + '.png')\n",
    "    train_df = train_df.append({'Plant': str(counter) + '.png', 'Count' : plant_df[plant_df['Plant'] == str(train) + '.png']['Count'].item()}, ignore_index = True)\n",
    "    counter += 1"
   ]
  },
  {
   "cell_type": "code",
   "execution_count": 99,
   "metadata": {},
   "outputs": [],
   "source": [
    "train_df.to_csv('./InputDS/CVPPP2017_LCC_training/Train_PlantCounts.csv', index=False)\n",
    "val_df.to_csv('./InputDS/CVPPP2017_LCC_training/Val_PlantCounts.csv', index=False)\n",
    "test_df.to_csv('./InputDS/CVPPP2017_LCC_training/Test_PlantCounts.csv', index=False)"
   ]
  },
  {
   "cell_type": "code",
   "execution_count": 151,
   "metadata": {},
   "outputs": [],
   "source": [
    "# Applying Data Augumentation to each RGB image and its mask and storing it\n",
    "inPath = './InputDS/CVPPP2017_LCC_training/train/rgb/'\n",
    "outPath = './InputDS/CVPPP2017_LCC_training/train/transformedImgs/'\n",
    "listOfFiles = os.listdir(inPath) \n",
    "counter = 1\n",
    "datagen = ImageDataGenerator(rotation_range = 15, width_shift_range = 0.1, height_shift_range = 0.1, shear_range = 0.15, zoom_range = 0.1, channel_shift_range = 10., horizontal_flip = True, vertical_flip = True)\n",
    "for entry in listOfFiles: \n",
    "    inputPath = inPath + entry\n",
    "    outputPath = outPath + str(counter) + '/'\n",
    "    if not os.path.exists(outputPath):\n",
    "        os.makedirs(outputPath)\n",
    "    counter += 1\n",
    "    i = 1\n",
    "    rgb_image = image.load_img(inputPath, target_size=(224, 224))\n",
    "    x = img_to_array(rgb_image)  \n",
    "    x = x.reshape((1,) + x.shape)  \n",
    "    for batch in datagen.flow(x, batch_size=1, save_to_dir=outputPath, save_format='png'):\n",
    "        i += 1\n",
    "        if i > 100:\n",
    "            break"
   ]
  },
  {
   "cell_type": "code",
   "execution_count": 163,
   "metadata": {},
   "outputs": [
    {
     "name": "stdout",
     "output_type": "stream",
     "text": [
      "684\n"
     ]
    }
   ],
   "source": [
    "# Now transfer all the original images with their respective augumented images. This creates 101 images in total for each original rgb image\n",
    "inPath = './InputDS/CVPPP2017_LCC_training/train/rgb/'\n",
    "outPath = './InputDS/CVPPP2017_LCC_training/train/transformedImgs/'\n",
    "listOfFiles = os.listdir(inPath) \n",
    "counter = 1\n",
    "for entry in listOfFiles:\n",
    "        img = image.load_img(inPath + entry, target_size=(224, 224))\n",
    "        img_array = image.img_to_array(img)\n",
    "        image.save_img(outPath + str(counter) + '/' + str(counter) + '_original.png', img_array)\n",
    "        counter += 1\n",
    "print(counter)"
   ]
  },
  {
   "cell_type": "code",
   "execution_count": 44,
   "metadata": {},
   "outputs": [
    {
     "name": "stdout",
     "output_type": "stream",
     "text": [
      "(441, 441, 3)\n"
     ]
    }
   ],
   "source": [
    "# Convert all images to (224,224)\n",
    "# targetPath = './InputDS/CVPPP2017_LCC_training/train/transformedImgs/1/_0_37.png'\n",
    "# targetPath = './InputDS/CVPPP2017_LCC_training/train/trial/1_originalImg.png'\n",
    "targetPath = './InputDS/CVPPP2017_LCC_training/train2/rgb'\n",
    "img = load_img(targetPath)\n",
    "x = img_to_array(img) \n",
    "print(x.shape)\n",
    "# Experimental Section Ends"
   ]
  },
  {
   "cell_type": "code",
   "execution_count": 105,
   "metadata": {},
   "outputs": [],
   "source": [
    "## Change all the train labels to the same size as the train images\n",
    "inputPath = './InputDS/CVPPP2017_LCC_training/testing2/fg/'\n",
    "targetPath = './InputDS/CVPPP2017_LCC_training/final_test/test_masks/'\n",
    "listOfFiles = os.listdir(inputPath) \n",
    "for entry in listOfFiles:   \n",
    "    img = image.load_img(inputPath + entry, target_size=(224, 224))\n",
    "    img_array = image.img_to_array(img)\n",
    "    image.save_img(targetPath + entry, img_array)"
   ]
  },
  {
   "cell_type": "code",
   "execution_count": 14,
   "metadata": {
    "scrolled": true
   },
   "outputs": [
    {
     "name": "stdout",
     "output_type": "stream",
     "text": [
      "Image: (224, 224, 3)\n",
      "Image: (224, 224, 3)\n",
      "Image: (224, 224, 3)\n",
      "Image: (224, 224, 3)\n",
      "Image: (224, 224, 3)\n",
      "Image: (224, 224, 3)\n",
      "Image: (224, 224, 3)\n",
      "Image: (224, 224, 3)\n",
      "Image: (224, 224, 3)\n",
      "Image: (224, 224, 3)\n",
      "Image: (224, 224, 3)\n",
      "Image: (224, 224, 3)\n",
      "Image: (224, 224, 3)\n",
      "Image: (224, 224, 3)\n",
      "Image: (224, 224, 3)\n",
      "Image: (224, 224, 3)\n",
      "Image: (224, 224, 3)\n",
      "Image: (224, 224, 3)\n",
      "Image: (224, 224, 3)\n",
      "Image: (224, 224, 3)\n",
      "Image: (224, 224, 3)\n",
      "Image: (224, 224, 3)\n",
      "Image: (224, 224, 3)\n",
      "Image: (224, 224, 3)\n",
      "Image: (224, 224, 3)\n",
      "Image: (224, 224, 3)\n",
      "Image: (224, 224, 3)\n",
      "Image: (224, 224, 3)\n",
      "Image: (224, 224, 3)\n",
      "Image: (224, 224, 3)\n",
      "Image: (224, 224, 3)\n",
      "Image: (224, 224, 3)\n",
      "Image: (224, 224, 3)\n",
      "Image: (224, 224, 3)\n",
      "Image: (224, 224, 3)\n",
      "Image: (224, 224, 3)\n",
      "Image: (224, 224, 3)\n",
      "Image: (224, 224, 3)\n",
      "Image: (224, 224, 3)\n",
      "Image: (224, 224, 3)\n",
      "Image: (224, 224, 3)\n",
      "Image: (224, 224, 3)\n",
      "Image: (224, 224, 3)\n",
      "Image: (224, 224, 3)\n",
      "Image: (224, 224, 3)\n",
      "Image: (224, 224, 3)\n",
      "Image: (224, 224, 3)\n",
      "Image: (224, 224, 3)\n",
      "Image: (224, 224, 3)\n",
      "Image: (224, 224, 3)\n",
      "Image: (224, 224, 3)\n",
      "Image: (224, 224, 3)\n"
     ]
    }
   ],
   "source": [
    "inputPath = './InputDS/CVPPP2017_LCC_training/final/val_frames/val/'\n",
    "# targetPath = './InputDS/CVPPP2017_LCC_training/final/val_masks/val2/'\n",
    "listOfFiles = os.listdir(inputPath) \n",
    "for entry in listOfFiles:   \n",
    "    img = image.load_img(inputPath + entry)\n",
    "    img_array = image.img_to_array(img)\n",
    "#     image.save_img(targetPath + entry, img_array)\n",
    "#     print(inputPath + entry)\n",
    "    print(\"Image: \" + str(img_array.shape))"
   ]
  }
 ],
 "metadata": {
  "kernelspec": {
   "display_name": "Python 3",
   "language": "python",
   "name": "python3"
  },
  "language_info": {
   "codemirror_mode": {
    "name": "ipython",
    "version": 3
   },
   "file_extension": ".py",
   "mimetype": "text/x-python",
   "name": "python",
   "nbconvert_exporter": "python",
   "pygments_lexer": "ipython3",
   "version": "3.7.0"
  }
 },
 "nbformat": 4,
 "nbformat_minor": 2
}
